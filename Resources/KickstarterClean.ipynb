{
 "cells": [
  {
   "cell_type": "code",
   "execution_count": 31,
   "metadata": {},
   "outputs": [],
   "source": [
    "import pandas as pd\n",
    "import os"
   ]
  },
  {
   "cell_type": "code",
   "execution_count": 32,
   "metadata": {},
   "outputs": [],
   "source": [
    "# The path to our CSV file\n",
    "file_to_load = os.path.join(\"KickstarterData.csv\")\n",
    "# Read our Kickstarter data into pandas\n",
    "kickstarter_df = pd.read_csv(file_to_load)"
   ]
  },
  {
   "cell_type": "code",
   "execution_count": 35,
   "metadata": {},
   "outputs": [],
   "source": [
    "# Get a list of all of our columns for easy reference\n",
    "df_columns = kickstarter_df.columns"
   ]
  },
  {
   "cell_type": "code",
   "execution_count": 37,
   "metadata": {
    "scrolled": true
   },
   "outputs": [
    {
     "data": {
      "text/html": [
       "<div>\n",
       "<style scoped>\n",
       "    .dataframe tbody tr th:only-of-type {\n",
       "        vertical-align: middle;\n",
       "    }\n",
       "\n",
       "    .dataframe tbody tr th {\n",
       "        vertical-align: top;\n",
       "    }\n",
       "\n",
       "    .dataframe thead th {\n",
       "        text-align: right;\n",
       "    }\n",
       "</style>\n",
       "<table border=\"1\" class=\"dataframe\">\n",
       "  <thead>\n",
       "    <tr style=\"text-align: right;\">\n",
       "      <th></th>\n",
       "      <th>name</th>\n",
       "      <th>goal</th>\n",
       "      <th>pledged</th>\n",
       "      <th>state</th>\n",
       "      <th>country</th>\n",
       "      <th>staff_pick</th>\n",
       "      <th>backers_count</th>\n",
       "      <th>spotlight</th>\n",
       "    </tr>\n",
       "  </thead>\n",
       "  <tbody>\n",
       "    <tr>\n",
       "      <th>0</th>\n",
       "      <td>The Class Act Players Theatre Company Presents...</td>\n",
       "      <td>1500.0</td>\n",
       "      <td>2925.0</td>\n",
       "      <td>successful</td>\n",
       "      <td>US</td>\n",
       "      <td>False</td>\n",
       "      <td>17</td>\n",
       "      <td>True</td>\n",
       "    </tr>\n",
       "    <tr>\n",
       "      <th>1</th>\n",
       "      <td>MR INCREDIBLE by Camilla Whitehill - VAULT Fes...</td>\n",
       "      <td>2500.0</td>\n",
       "      <td>2936.0</td>\n",
       "      <td>successful</td>\n",
       "      <td>GB</td>\n",
       "      <td>True</td>\n",
       "      <td>15</td>\n",
       "      <td>True</td>\n",
       "    </tr>\n",
       "    <tr>\n",
       "      <th>2</th>\n",
       "      <td>RUN</td>\n",
       "      <td>1000.0</td>\n",
       "      <td>1200.0</td>\n",
       "      <td>successful</td>\n",
       "      <td>GB</td>\n",
       "      <td>False</td>\n",
       "      <td>30</td>\n",
       "      <td>True</td>\n",
       "    </tr>\n",
       "    <tr>\n",
       "      <th>3</th>\n",
       "      <td>9th International Meeting of Youth Theatre sap...</td>\n",
       "      <td>2000.0</td>\n",
       "      <td>2135.0</td>\n",
       "      <td>successful</td>\n",
       "      <td>IT</td>\n",
       "      <td>False</td>\n",
       "      <td>24</td>\n",
       "      <td>True</td>\n",
       "    </tr>\n",
       "    <tr>\n",
       "      <th>4</th>\n",
       "      <td>Get Conti to the Ed Fringe!</td>\n",
       "      <td>1000.0</td>\n",
       "      <td>1250.0</td>\n",
       "      <td>successful</td>\n",
       "      <td>GB</td>\n",
       "      <td>False</td>\n",
       "      <td>28</td>\n",
       "      <td>True</td>\n",
       "    </tr>\n",
       "  </tbody>\n",
       "</table>\n",
       "</div>"
      ],
      "text/plain": [
       "                                                name    goal  pledged  \\\n",
       "0  The Class Act Players Theatre Company Presents...  1500.0   2925.0   \n",
       "1  MR INCREDIBLE by Camilla Whitehill - VAULT Fes...  2500.0   2936.0   \n",
       "2                                                RUN  1000.0   1200.0   \n",
       "3  9th International Meeting of Youth Theatre sap...  2000.0   2135.0   \n",
       "4                        Get Conti to the Ed Fringe!  1000.0   1250.0   \n",
       "\n",
       "        state country  staff_pick  backers_count  spotlight  \n",
       "0  successful      US       False             17       True  \n",
       "1  successful      GB        True             15       True  \n",
       "2  successful      GB       False             30       True  \n",
       "3  successful      IT       False             24       True  \n",
       "4  successful      GB       False             28       True  "
      ]
     },
     "execution_count": 37,
     "metadata": {},
     "output_type": "execute_result"
    }
   ],
   "source": [
    "# Extract \"name\", \"goal\", \"pledged\", \"state\", \"country\", \"staff_pick\",\n",
    "# \"backers_count\", and \"spotlight\"\n",
    "new_df = kickstarter_df.loc[:,[\"name\", \"goal\", \"pledged\", \"state\", \"country\", \"staff_pick\",\"backers_count\", \"spotlight\"]]\n",
    "new_df.head()"
   ]
  },
  {
   "cell_type": "code",
   "execution_count": 38,
   "metadata": {
    "scrolled": true
   },
   "outputs": [
    {
     "data": {
      "text/html": [
       "<div>\n",
       "<style scoped>\n",
       "    .dataframe tbody tr th:only-of-type {\n",
       "        vertical-align: middle;\n",
       "    }\n",
       "\n",
       "    .dataframe tbody tr th {\n",
       "        vertical-align: top;\n",
       "    }\n",
       "\n",
       "    .dataframe thead th {\n",
       "        text-align: right;\n",
       "    }\n",
       "</style>\n",
       "<table border=\"1\" class=\"dataframe\">\n",
       "  <thead>\n",
       "    <tr style=\"text-align: right;\">\n",
       "      <th></th>\n",
       "      <th>name</th>\n",
       "      <th>goal</th>\n",
       "      <th>pledged</th>\n",
       "      <th>state</th>\n",
       "      <th>country</th>\n",
       "      <th>staff_pick</th>\n",
       "      <th>backers_count</th>\n",
       "      <th>spotlight</th>\n",
       "    </tr>\n",
       "  </thead>\n",
       "  <tbody>\n",
       "    <tr>\n",
       "      <th>0</th>\n",
       "      <td>The Class Act Players Theatre Company Presents...</td>\n",
       "      <td>1500.0</td>\n",
       "      <td>2925.0</td>\n",
       "      <td>successful</td>\n",
       "      <td>US</td>\n",
       "      <td>False</td>\n",
       "      <td>17</td>\n",
       "      <td>True</td>\n",
       "    </tr>\n",
       "    <tr>\n",
       "      <th>1</th>\n",
       "      <td>MR INCREDIBLE by Camilla Whitehill - VAULT Fes...</td>\n",
       "      <td>2500.0</td>\n",
       "      <td>2936.0</td>\n",
       "      <td>successful</td>\n",
       "      <td>GB</td>\n",
       "      <td>True</td>\n",
       "      <td>15</td>\n",
       "      <td>True</td>\n",
       "    </tr>\n",
       "    <tr>\n",
       "      <th>2</th>\n",
       "      <td>RUN</td>\n",
       "      <td>1000.0</td>\n",
       "      <td>1200.0</td>\n",
       "      <td>successful</td>\n",
       "      <td>GB</td>\n",
       "      <td>False</td>\n",
       "      <td>30</td>\n",
       "      <td>True</td>\n",
       "    </tr>\n",
       "    <tr>\n",
       "      <th>3</th>\n",
       "      <td>9th International Meeting of Youth Theatre sap...</td>\n",
       "      <td>2000.0</td>\n",
       "      <td>2135.0</td>\n",
       "      <td>successful</td>\n",
       "      <td>IT</td>\n",
       "      <td>False</td>\n",
       "      <td>24</td>\n",
       "      <td>True</td>\n",
       "    </tr>\n",
       "    <tr>\n",
       "      <th>4</th>\n",
       "      <td>Get Conti to the Ed Fringe!</td>\n",
       "      <td>1000.0</td>\n",
       "      <td>1250.0</td>\n",
       "      <td>successful</td>\n",
       "      <td>GB</td>\n",
       "      <td>False</td>\n",
       "      <td>28</td>\n",
       "      <td>True</td>\n",
       "    </tr>\n",
       "  </tbody>\n",
       "</table>\n",
       "</div>"
      ],
      "text/plain": [
       "                                                name    goal  pledged  \\\n",
       "0  The Class Act Players Theatre Company Presents...  1500.0   2925.0   \n",
       "1  MR INCREDIBLE by Camilla Whitehill - VAULT Fes...  2500.0   2936.0   \n",
       "2                                                RUN  1000.0   1200.0   \n",
       "3  9th International Meeting of Youth Theatre sap...  2000.0   2135.0   \n",
       "4                        Get Conti to the Ed Fringe!  1000.0   1250.0   \n",
       "\n",
       "        state country  staff_pick  backers_count  spotlight  \n",
       "0  successful      US       False             17       True  \n",
       "1  successful      GB        True             15       True  \n",
       "2  successful      GB       False             30       True  \n",
       "3  successful      IT       False             24       True  \n",
       "4  successful      GB       False             28       True  "
      ]
     },
     "execution_count": 38,
     "metadata": {},
     "output_type": "execute_result"
    }
   ],
   "source": [
    "# Remove projects that made no money at all\n",
    "new_df = new_df.loc[(new_df[\"pledged\"]>0)]\n",
    "new_df.head()"
   ]
  },
  {
   "cell_type": "code",
   "execution_count": 39,
   "metadata": {
    "scrolled": true
   },
   "outputs": [],
   "source": [
    "# Collect only those projects that were hosted in the US\n",
    "new_df = new_df.loc[(new_df[\"country\"] == \"US\")]\n",
    "# Create a list of the columns\n",
    "# Create a new df for \"US\" with the columns above. "
   ]
  },
  {
   "cell_type": "code",
   "execution_count": 40,
   "metadata": {},
   "outputs": [],
   "source": [
    "# Create a new column that finds the average amount pledged to a project\n",
    "new_df[\"Average Pledged\"] = new_df[\"pledged\"]/new_df[\"backers_count\"]"
   ]
  },
  {
   "cell_type": "code",
   "execution_count": 41,
   "metadata": {},
   "outputs": [],
   "source": [
    "# First convert \"average_donation\", \"goal\", and \"pledged\" columns to float\n",
    "new_df[\"average pledged\"] = new_df[\"Average Pledged\"].astype(float).map(\"${:,.2f}\".format)\n",
    "new_df[\"goal\"] = new_df[\"goal\"].astype(float).map(\"${:,.2f}\".format)\n",
    "new_df[\"pledged\"] = new_df[\"pledged\"].astype(float).map(\"${:,.2f}\".format)\n",
    "# Then Format to go to two decimal places, include a dollar sign, and use comma notation"
   ]
  },
  {
   "cell_type": "code",
   "execution_count": 42,
   "metadata": {},
   "outputs": [
    {
     "data": {
      "text/plain": [
       "89273"
      ]
     },
     "execution_count": 42,
     "metadata": {},
     "output_type": "execute_result"
    }
   ],
   "source": [
    "# Calculate the total number of backers for all US projects\n",
    "new_df[\"backers_count\"].sum()"
   ]
  },
  {
   "cell_type": "code",
   "execution_count": 43,
   "metadata": {},
   "outputs": [
    {
     "data": {
      "text/plain": [
       "41.931892907468296"
      ]
     },
     "execution_count": 43,
     "metadata": {},
     "output_type": "execute_result"
    }
   ],
   "source": [
    "# Calculate the average number of backers for all US projects\n",
    "new_df[\"backers_count\"].mean()"
   ]
  },
  {
   "cell_type": "code",
   "execution_count": 44,
   "metadata": {
    "scrolled": true
   },
   "outputs": [],
   "source": [
    "# Collect only those US campaigns that have been picked as a \"Staff Pick\"\n",
    "new_staff_pick_df = new_df.loc[new_df[\"staff_pick\"]== True]"
   ]
  },
  {
   "cell_type": "code",
   "execution_count": 45,
   "metadata": {},
   "outputs": [],
   "source": [
    "# Group by the state of the campaigns and see if staff picks matter (Seems to matter quite a bit)\n",
    "new_state_df = new_staff_pick_df.groupby(\"state\").count()"
   ]
  },
  {
   "cell_type": "code",
   "execution_count": null,
   "metadata": {},
   "outputs": [],
   "source": []
  }
 ],
 "metadata": {
  "kernelspec": {
   "display_name": "PythonData",
   "language": "python",
   "name": "pythondata"
  },
  "language_info": {
   "codemirror_mode": {
    "name": "ipython",
    "version": 3
   },
   "file_extension": ".py",
   "mimetype": "text/x-python",
   "name": "python",
   "nbconvert_exporter": "python",
   "pygments_lexer": "ipython3",
   "version": "3.7.7"
  }
 },
 "nbformat": 4,
 "nbformat_minor": 2
}
